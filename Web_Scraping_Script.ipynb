{
  "nbformat": 4,
  "nbformat_minor": 0,
  "metadata": {
    "colab": {
      "provenance": []
    },
    "kernelspec": {
      "name": "python3",
      "display_name": "Python 3"
    },
    "language_info": {
      "name": "python"
    }
  },
  "cells": [
    {
      "cell_type": "code",
      "execution_count": null,
      "metadata": {
        "id": "xoPCUcdvelnE"
      },
      "outputs": [],
      "source": [
        "import requests\n",
        "import time\n",
        "from bs4 import BeautifulSoup"
      ]
    },
    {
      "cell_type": "code",
      "source": [
        "def get_filmography(actor):\n",
        "    base_url = f'https://www.imdb.com/find?q={actor.replace(\" \", \"+\")}&s=nm'\n",
        "\n",
        "#     print(base_url)\n",
        "    # Set a user agent to avoid being blocked\n",
        "    headers = {'User-Agent': 'Mozilla/5.0 (Windows NT 10.0; Win64; x64) AppleWebKit/537.36 (KHTML, like Gecko) Chrome/58.0.3029.110 Safari/537.3'}\n",
        "\n",
        "    try:\n",
        "        response = requests.get(base_url, headers=headers)\n",
        "        response.raise_for_status()  # Raise an HTTPError for bad responses\n",
        "    except requests.exceptions.HTTPError as errh:\n",
        "        print(\"HTTP Error:\", errh)\n",
        "    except requests.exceptions.ConnectionError as errc:\n",
        "        print(\"Error Connecting:\", errc)\n",
        "    except requests.exceptions.Timeout as errt:\n",
        "        print(\"Timeout Error:\", errt)\n",
        "    except requests.exceptions.RequestException as err:\n",
        "        print(\"Something went wrong:\", err)\n",
        "        return\n",
        "\n",
        "    soup = BeautifulSoup(response.text, 'html.parser')\n",
        "\n",
        "#     print(soup)\n",
        "\n",
        "#     <li class=\"ipc-metadata-list-summary-item ipc-metadata-list-summary-item--click find-result-item find-name-result\"><div class=\"sc-33e43eb2-0 kUmKsC\"><div class=\"ipc-media ipc-media--avatar ipc-image-media-ratio--avatar ipc-media--base ipc-media--custom ipc-media--avatar-circle ipc-media__img\" style=\"width:50px\"><img alt=\"Ajay Devgn\" class=\"ipc-image\" loading=\"lazy\" src=\"https://m.media-amazon.com/images/M/MV5BMTY0MDY2MDMwOV5BMl5BanBnXkFtZTgwNDE4MDM0OTE@._V1_QL75_UX50_CR0,0,50,50_.jpg\" srcset=\"https://m.media-amazon.com/images/M/MV5BMTY0MDY2MDMwOV5BMl5BanBnXkFtZTgwNDE4MDM0OTE@._V1_QL75_UX50_CR0,0,50,50_.jpg 50w, https://m.media-amazon.com/images/M/MV5BMTY0MDY2MDMwOV5BMl5BanBnXkFtZTgwNDE4MDM0OTE@._V1_QL75_UX75_CR0,0,75,75_.jpg 75w, https://m.media-amazon.com/images/M/MV5BMTY0MDY2MDMwOV5BMl5BanBnXkFtZTgwNDE4MDM0OTE@._V1_QL75_UX100_CR0,0,100,100_.jpg 100w\" sizes=\"50vw, (min-width: 480px) 34vw, (min-width: 600px) 26vw, (min-width: 1024px) 16vw, (min-width: 1280px) 16vw\" width=\"50\"></div></div><div class=\"ipc-metadata-list-summary-item__c\"><div class=\"ipc-metadata-list-summary-item__tc\"><a class=\"ipc-metadata-list-summary-item__t\" role=\"button\" tabindex=\"0\" aria-disabled=\"false\" href=\"/name/nm0222426/?ref_=fn_nm_nm_1\">Ajay Devgn</a><ul class=\"ipc-inline-list ipc-inline-list--show-dividers ipc-inline-list--no-wrap ipc-inline-list--inline ipc-metadata-list-summary-item__tl base\" role=\"presentation\"><li role=\"presentation\" class=\"ipc-inline-list__item\"><span class=\"ipc-metadata-list-summary-item__li\" aria-disabled=\"false\">Actor, Shivaay (2016)</span></li></ul></div></div></li>\n",
        "\n",
        "\n",
        "    # Check if results are found\n",
        "    result_list = soup.find_all('li', class_='ipc-metadata-list-summary-item ipc-metadata-list-summary-item--click find-result-item find-name-result')\n",
        "\n",
        "#     print(result_list)\n",
        "\n",
        "    result = result_list[0] if result_list else None\n",
        "\n",
        "#     print(result)\n",
        "\n",
        "    if result is None:\n",
        "        print(f\"No results found for {actor}\")\n",
        "        return\n",
        "\n",
        "\n",
        "#     <a class=\"ipc-metadata-list-summary-item__t\" role=\"button\" tabindex=\"0\" aria-disabled=\"false\" href=\"/name/nm0222426/?ref_=fn_nm_nm_1\">Ajay Devgn</a>\n",
        "    # Extract the link to the actor's page\n",
        "    link = result.find('a', class_='ipc-metadata-list-summary-item__t')['href']\n",
        "\n",
        "#     print(link)\n",
        "#     https://www.imdb.com/name/nm0222426/?ref_=fn_nm_nm_1\n",
        "    # Access the actor's filmography page\n",
        "    actor_page_url = 'https://www.imdb.com' + link\n",
        "\n",
        "\n",
        "#     print(actor_page_url)\n",
        "        # Access the actor's filmography page\n",
        "    try:\n",
        "        actor_response = requests.get(actor_page_url, headers=headers)\n",
        "        actor_response.raise_for_status()\n",
        "    except requests.exceptions.HTTPError as errh:\n",
        "        print (\"HTTP Error:\",errh)\n",
        "    except requests.exceptions.ConnectionError as errc:\n",
        "        print (\"Error Connecting:\",errc)\n",
        "    except requests.exceptions.Timeout as errt:\n",
        "        print (\"Timeout Error:\",errt)\n",
        "    except requests.exceptions.RequestException as err:\n",
        "        print (\"Something went wrong:\",err)\n",
        "        return\n",
        "\n",
        "    actor_soup = BeautifulSoup(actor_response.text, 'html.parser')\n",
        "\n",
        "        # Extract and print the filmography in descending order\n",
        "\n",
        "#     print(actor_soup)\n",
        "#     ipc-metadata-list ipc-metadata-list--dividers-between ipc-metadata-list--base\n",
        "#     result_list = soup.find_all('li', class_='ipc-metadata-list-summary-item ipc-metadata-list-summary-item--click find-result-item find-name-result')\n",
        "    filmography = actor_soup.find_all('li', class_='ipc-metadata-list-summary-item ipc-metadata-list-summary-item--click sc-9814c2de-3 dfZQqg')\n",
        "    unique_titles = set()\n",
        "    for film in filmography:\n",
        "        title_element = film.find('a', class_='ipc-metadata-list-summary-item__t')\n",
        "\n",
        "        if title_element:\n",
        "            title = title_element.text.strip()\n",
        "\n",
        "            if title not in unique_titles:\n",
        "                unique_titles.add(title)\n",
        "                print(title)\n",
        "\n"
      ],
      "metadata": {
        "id": "wRTEGo18erIy"
      },
      "execution_count": null,
      "outputs": []
    },
    {
      "cell_type": "code",
      "source": [
        "if __name__ == '__main__':\n",
        "    actor_name = input(\"Enter the actor's name: \")\n",
        "    print(\"\\n\\nThe Movies are:\\n\")\n",
        "    get_filmography(actor_name)\n"
      ],
      "metadata": {
        "id": "D_Uw93YOgmKb",
        "outputId": "e63b2408-a19a-4775-d571-d7594edb8f0d",
        "colab": {
          "base_uri": "https://localhost:8080/"
        }
      },
      "execution_count": null,
      "outputs": [
        {
          "output_type": "stream",
          "name": "stdout",
          "text": [
            "Enter the actor's name: Leonardo DiCaprio\n",
            "\n",
            "\n",
            "The Movies are:\n",
            "\n",
            "Ozi: Voice of the Forest\n",
            "Killers of the Flower Moon\n",
            "We Are Guardians\n",
            "Path of the Panther\n",
            "The Volcano: Rescue from Whakaari\n",
            "Shining Girls\n",
            "Theodore Roosevelt\n",
            "King of Cool\n",
            "Stay Wild\n",
            "Fin\n",
            "The Loneliest Whale: The Search for 52\n",
            "From Devil's Breath\n",
            "The Titans That Built America\n",
            "Kid 90\n",
            "The Right Stuff\n",
            "Don't Look Up\n",
            "Once Upon a Time in Hollywood\n",
            "Lil Dicky: Earth\n",
            "The Revenant\n",
            "The Audition\n",
            "The Wolf of Wall Street\n",
            "The Great Gatsby\n",
            "Titanic: Deleted Scenes\n",
            "Django Unchained\n",
            "J. Edgar\n",
            "Inception: The Cobol Job\n",
            "Inception\n",
            "Shutter Island\n",
            "Revolutionary Road\n",
            "Greensburg\n",
            "The 11th Hour\n"
          ]
        }
      ]
    },
    {
      "cell_type": "code",
      "source": [],
      "metadata": {
        "id": "TNwGZCqkgnaM"
      },
      "execution_count": null,
      "outputs": []
    }
  ]
}